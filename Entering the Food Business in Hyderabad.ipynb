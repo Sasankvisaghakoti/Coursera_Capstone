{
    "cells": [
        {
            "metadata": {
                "collapsed": true
            },
            "cell_type": "markdown",
            "source": "# 1. Introduction"
        },
        {
            "metadata": {},
            "cell_type": "markdown",
            "source": "Hyderabad is one of the fastest growing cities in India, with this rapid growth in and around the city, the doors are open for the huge workforce increasing the city population and also the potential for the new and innovative businesses due to the bigger market availabilty. One of the fastest growing line of business which is evergreen is the food business. However, considering the diverse population of the city it is essential to understand the tastes and the locations in the city before entering into the business. Before venturing this highly diverse city the ideal location of the establishment and the cuisine liked by most of population must be decided."
        },
        {
            "metadata": {},
            "cell_type": "markdown",
            "source": "# 2. Business problem"
        },
        {
            "metadata": {},
            "cell_type": "markdown",
            "source": "The objective of this project is to analyze and select the best locations in the city of Hyderabad, India, to open a new restaurent. This project is mainly focused on geospatial analysis of the Hyderabad City and to determine the best possible location and cusine for the new restauant. Using data science methodology and machine learning techniques like clustering, let's try to answer the business question - What could be the ideal location to establish the new restaurent and what cuisine is mostly welcomed by the residents of Hyderabad?"
        },
        {
            "metadata": {},
            "cell_type": "markdown",
            "source": "# 3. Data acquasition & Cleaning"
        },
        {
            "metadata": {},
            "cell_type": "markdown",
            "source": "### 3.1 Data Requirements"
        },
        {
            "metadata": {},
            "cell_type": "markdown",
            "source": "To answer the above business problem, we need the following data:\n 1. List of all the areas in Hyderabad City. \n 2. Geospatial coordinates of the areas in the city\n 3. Data of different venues in City "
        },
        {
            "metadata": {},
            "cell_type": "markdown",
            "source": "### 3.2 Data Sources"
        },
        {
            "metadata": {},
            "cell_type": "markdown",
            "source": "The list of areas/neighbourhoods in city can be extracted from this [wikedia page](https://en.wikipedia.org/wiki/Category:Neighbourhoods_in_Hyderabad,_India \"wikedia page\"). The scrapping of the html page can be done using the python requests and beatifulsoup package. THe extracted data can then be converted into a dataframe using pandas.\n\nThe geospatial coordinates of all the areas/neaighbourhoods can be extracted using the geopy and geo-coder packages. Passing the values extracted in scrapping through the geocoder user agent and fetching the geospatial coordinates. Then the entire data set extracted can be convereted into a dataframe using pandas.\n\nFoursquare API can be used to fetch the venues data in the city and the using clustering on this data the business question can be answered."
        },
        {
            "metadata": {},
            "cell_type": "markdown",
            "source": ""
        }
    ],
    "metadata": {
        "kernelspec": {
            "name": "python3",
            "display_name": "Python 3.7",
            "language": "python"
        },
        "language_info": {
            "name": "python",
            "version": "3.7.10",
            "mimetype": "text/x-python",
            "codemirror_mode": {
                "name": "ipython",
                "version": 3
            },
            "pygments_lexer": "ipython3",
            "nbconvert_exporter": "python",
            "file_extension": ".py"
        }
    },
    "nbformat": 4,
    "nbformat_minor": 1
}